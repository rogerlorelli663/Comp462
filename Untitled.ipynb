{
 "cells": [
  {
   "cell_type": "code",
   "execution_count": 22,
   "id": "5370bbcd-b971-4f28-b38d-ad78a14a40c3",
   "metadata": {},
   "outputs": [],
   "source": [
    "from bs4 import BeautifulSoup\n",
    "soup = BeautifulSoup(open('page3.html'),'html.parser')"
   ]
  },
  {
   "cell_type": "code",
   "execution_count": 23,
   "id": "0cf9e0b7-a3c6-41cf-bb2f-1138ce9eac91",
   "metadata": {},
   "outputs": [
    {
     "name": "stdout",
     "output_type": "stream",
     "text": [
      "b'<tr><td>26</td><td>2021-11-22 00:00:00</td><tr>'\n"
     ]
    }
   ],
   "source": [
    "message = f\"<tr><td>{str(26)}</td><td>2021-11-22 00:00:00</td><tr>\"\n",
    "message = message.encode()\n",
    "print(message)"
   ]
  },
  {
   "cell_type": "code",
   "execution_count": 24,
   "id": "e697429a-96d7-4ef8-b43f-dd1ba19f4f98",
   "metadata": {},
   "outputs": [
    {
     "ename": "AttributeError",
     "evalue": "'int' object has no attribute 'parent'",
     "output_type": "error",
     "traceback": [
      "\u001b[1;31m---------------------------------------------------------------------------\u001b[0m",
      "\u001b[1;31mAttributeError\u001b[0m                            Traceback (most recent call last)",
      "\u001b[1;32m<ipython-input-24-e73be901791c>\u001b[0m in \u001b[0;36m<module>\u001b[1;34m\u001b[0m\n\u001b[1;32m----> 1\u001b[1;33m \u001b[0msoup\u001b[0m\u001b[1;33m.\u001b[0m\u001b[0mtable\u001b[0m\u001b[1;33m.\u001b[0m\u001b[0mextend\u001b[0m\u001b[1;33m(\u001b[0m\u001b[0mmessage\u001b[0m\u001b[1;33m)\u001b[0m\u001b[1;33m\u001b[0m\u001b[1;33m\u001b[0m\u001b[0m\n\u001b[0m",
      "\u001b[1;32mc:\\users\\roger\\appdata\\local\\programs\\python\\python39\\lib\\site-packages\\bs4\\element.py\u001b[0m in \u001b[0;36mextend\u001b[1;34m(self, tags)\u001b[0m\n\u001b[0;32m    506\u001b[0m             \u001b[0mtags\u001b[0m \u001b[1;33m=\u001b[0m \u001b[0mlist\u001b[0m\u001b[1;33m(\u001b[0m\u001b[0mtags\u001b[0m\u001b[1;33m.\u001b[0m\u001b[0mcontents\u001b[0m\u001b[1;33m)\u001b[0m\u001b[1;33m\u001b[0m\u001b[1;33m\u001b[0m\u001b[0m\n\u001b[0;32m    507\u001b[0m         \u001b[1;32mfor\u001b[0m \u001b[0mtag\u001b[0m \u001b[1;32min\u001b[0m \u001b[0mtags\u001b[0m\u001b[1;33m:\u001b[0m\u001b[1;33m\u001b[0m\u001b[1;33m\u001b[0m\u001b[0m\n\u001b[1;32m--> 508\u001b[1;33m             \u001b[0mself\u001b[0m\u001b[1;33m.\u001b[0m\u001b[0mappend\u001b[0m\u001b[1;33m(\u001b[0m\u001b[0mtag\u001b[0m\u001b[1;33m)\u001b[0m\u001b[1;33m\u001b[0m\u001b[1;33m\u001b[0m\u001b[0m\n\u001b[0m\u001b[0;32m    509\u001b[0m \u001b[1;33m\u001b[0m\u001b[0m\n\u001b[0;32m    510\u001b[0m     \u001b[1;32mdef\u001b[0m \u001b[0minsert_before\u001b[0m\u001b[1;33m(\u001b[0m\u001b[0mself\u001b[0m\u001b[1;33m,\u001b[0m \u001b[1;33m*\u001b[0m\u001b[0margs\u001b[0m\u001b[1;33m)\u001b[0m\u001b[1;33m:\u001b[0m\u001b[1;33m\u001b[0m\u001b[1;33m\u001b[0m\u001b[0m\n",
      "\u001b[1;32mc:\\users\\roger\\appdata\\local\\programs\\python\\python39\\lib\\site-packages\\bs4\\element.py\u001b[0m in \u001b[0;36mappend\u001b[1;34m(self, tag)\u001b[0m\n\u001b[0;32m    493\u001b[0m         \u001b[1;33m:\u001b[0m\u001b[0mparam\u001b[0m \u001b[0mtag\u001b[0m\u001b[1;33m:\u001b[0m \u001b[0mA\u001b[0m \u001b[0mPageElement\u001b[0m\u001b[1;33m.\u001b[0m\u001b[1;33m\u001b[0m\u001b[1;33m\u001b[0m\u001b[0m\n\u001b[0;32m    494\u001b[0m         \"\"\"\n\u001b[1;32m--> 495\u001b[1;33m         \u001b[0mself\u001b[0m\u001b[1;33m.\u001b[0m\u001b[0minsert\u001b[0m\u001b[1;33m(\u001b[0m\u001b[0mlen\u001b[0m\u001b[1;33m(\u001b[0m\u001b[0mself\u001b[0m\u001b[1;33m.\u001b[0m\u001b[0mcontents\u001b[0m\u001b[1;33m)\u001b[0m\u001b[1;33m,\u001b[0m \u001b[0mtag\u001b[0m\u001b[1;33m)\u001b[0m\u001b[1;33m\u001b[0m\u001b[1;33m\u001b[0m\u001b[0m\n\u001b[0m\u001b[0;32m    496\u001b[0m \u001b[1;33m\u001b[0m\u001b[0m\n\u001b[0;32m    497\u001b[0m     \u001b[1;32mdef\u001b[0m \u001b[0mextend\u001b[0m\u001b[1;33m(\u001b[0m\u001b[0mself\u001b[0m\u001b[1;33m,\u001b[0m \u001b[0mtags\u001b[0m\u001b[1;33m)\u001b[0m\u001b[1;33m:\u001b[0m\u001b[1;33m\u001b[0m\u001b[1;33m\u001b[0m\u001b[0m\n",
      "\u001b[1;32mc:\\users\\roger\\appdata\\local\\programs\\python\\python39\\lib\\site-packages\\bs4\\element.py\u001b[0m in \u001b[0;36minsert\u001b[1;34m(self, position, new_child)\u001b[0m\n\u001b[0;32m    445\u001b[0m             \u001b[0mnew_child\u001b[0m\u001b[1;33m.\u001b[0m\u001b[0mextract\u001b[0m\u001b[1;33m(\u001b[0m\u001b[1;33m)\u001b[0m\u001b[1;33m\u001b[0m\u001b[1;33m\u001b[0m\u001b[0m\n\u001b[0;32m    446\u001b[0m \u001b[1;33m\u001b[0m\u001b[0m\n\u001b[1;32m--> 447\u001b[1;33m         \u001b[0mnew_child\u001b[0m\u001b[1;33m.\u001b[0m\u001b[0mparent\u001b[0m \u001b[1;33m=\u001b[0m \u001b[0mself\u001b[0m\u001b[1;33m\u001b[0m\u001b[1;33m\u001b[0m\u001b[0m\n\u001b[0m\u001b[0;32m    448\u001b[0m         \u001b[0mprevious_child\u001b[0m \u001b[1;33m=\u001b[0m \u001b[1;32mNone\u001b[0m\u001b[1;33m\u001b[0m\u001b[1;33m\u001b[0m\u001b[0m\n\u001b[0;32m    449\u001b[0m         \u001b[1;32mif\u001b[0m \u001b[0mposition\u001b[0m \u001b[1;33m==\u001b[0m \u001b[1;36m0\u001b[0m\u001b[1;33m:\u001b[0m\u001b[1;33m\u001b[0m\u001b[1;33m\u001b[0m\u001b[0m\n",
      "\u001b[1;31mAttributeError\u001b[0m: 'int' object has no attribute 'parent'"
     ]
    }
   ],
   "source": [
    "soup.table.extend(message)"
   ]
  },
  {
   "cell_type": "code",
   "execution_count": 25,
   "id": "807b11b0-778e-4728-85a9-f1ad896e43a5",
   "metadata": {},
   "outputs": [
    {
     "data": {
      "text/plain": [
       "<table align=\"center\">\n",
       "<tr>\n",
       "<th>\n",
       "                Temperature\n",
       "            </th>\n",
       "<th>\n",
       "                Time\n",
       "            </th>\n",
       "</tr>\n",
       "<tr>\n",
       "<td>\n",
       "                26\n",
       "            </td>\n",
       "<td>\n",
       "                2021-11-22 00:32:48.544107\n",
       "            </td>\n",
       "</tr>\n",
       "</table>"
      ]
     },
     "execution_count": 25,
     "metadata": {},
     "output_type": "execute_result"
    }
   ],
   "source": [
    "soup.table"
   ]
  },
  {
   "cell_type": "code",
   "execution_count": 78,
   "id": "17b2aa7d-e7ee-4da8-8e90-49e12ed3616b",
   "metadata": {},
   "outputs": [],
   "source": [
    "import json\n",
    "import html_to_json\n",
    "content = []"
   ]
  },
  {
   "cell_type": "code",
   "execution_count": 79,
   "id": "addc1623-d8c4-4a20-acef-63618f64afd2",
   "metadata": {},
   "outputs": [],
   "source": [
    "with open(\"page3.html\", \"r\") as html_file:\n",
    "    content = html_file.readlines()"
   ]
  },
  {
   "cell_type": "code",
   "execution_count": 80,
   "id": "fb006c70-51be-4f5f-8b34-79256d82d46c",
   "metadata": {},
   "outputs": [],
   "source": [
    "for i in range(len(content)):\n",
    "    content[i] = content[i].strip()"
   ]
  },
  {
   "cell_type": "code",
   "execution_count": 81,
   "id": "944aa981-d914-47e0-9390-1d0153d5b1fb",
   "metadata": {},
   "outputs": [
    {
     "name": "stdout",
     "output_type": "stream",
     "text": [
      "21\n"
     ]
    }
   ],
   "source": [
    "print(content.index('</table>'))"
   ]
  },
  {
   "cell_type": "code",
   "execution_count": 82,
   "id": "0e3ddbd7-b242-4a61-be10-7ee4e1d4f5d9",
   "metadata": {},
   "outputs": [
    {
     "name": "stdout",
     "output_type": "stream",
     "text": [
      "['<!DOCTYPE html>', '<html>', '<body>', '<h1 align=\"center\">Room Temperature</h1>', '<table align=\"center\">', '<tr>', '<th>', 'Temperature', '</th>', '<th>', 'Time', '</th>', '</tr>', '<tr>', '<td>', '26', '</td>', '<td>', '2021-11-22 00:32:48.544107', '</td>', '</tr>', '</table>', '</body>', '</html>']\n"
     ]
    }
   ],
   "source": [
    "print(content)"
   ]
  },
  {
   "cell_type": "code",
   "execution_count": 83,
   "id": "686b08b5-242f-450b-8e3f-c18754b4153b",
   "metadata": {},
   "outputs": [],
   "source": [
    "content.insert(21,'<tr>')\n",
    "content.insert(22,'<td>')\n",
    "content.insert(23,'new element')\n",
    "content.insert(24,'</td>')\n",
    "content.insert(25,'<td>')\n",
    "content.insert(26,'new time')\n",
    "content.insert(27,'</td>')\n",
    "content.insert(28,'</tr>')"
   ]
  },
  {
   "cell_type": "code",
   "execution_count": 84,
   "id": "8b162eac-1d9a-4435-83d4-8051eca261fc",
   "metadata": {},
   "outputs": [
    {
     "name": "stdout",
     "output_type": "stream",
     "text": [
      "['<!DOCTYPE html>', '<html>', '<body>', '<h1 align=\"center\">Room Temperature</h1>', '<table align=\"center\">', '<tr>', '<th>', 'Temperature', '</th>', '<th>', 'Time', '</th>', '</tr>', '<tr>', '<td>', '26', '</td>', '<td>', '2021-11-22 00:32:48.544107', '</td>', '</tr>', '<tr>', '<td>', 'new element', '</td>', '<td>', 'new time', '</td>', '</tr>', '</table>', '</body>', '</html>']\n"
     ]
    }
   ],
   "source": [
    "print(content)"
   ]
  },
  {
   "cell_type": "code",
   "execution_count": 85,
   "id": "09d0e098-580b-4499-b329-54b72aa58c5d",
   "metadata": {},
   "outputs": [],
   "source": [
    "with open(\"page3.html\",\"w\") as html_file:\n",
    "    for line in content:\n",
    "        html_file.write(line)"
   ]
  },
  {
   "cell_type": "code",
   "execution_count": null,
   "id": "ffe69de8-5056-4bfd-a338-59a39574d4db",
   "metadata": {},
   "outputs": [],
   "source": []
  }
 ],
 "metadata": {
  "kernelspec": {
   "display_name": "Python 3",
   "language": "python",
   "name": "python3"
  },
  "language_info": {
   "codemirror_mode": {
    "name": "ipython",
    "version": 3
   },
   "file_extension": ".py",
   "mimetype": "text/x-python",
   "name": "python",
   "nbconvert_exporter": "python",
   "pygments_lexer": "ipython3",
   "version": "3.9.0"
  }
 },
 "nbformat": 4,
 "nbformat_minor": 5
}
